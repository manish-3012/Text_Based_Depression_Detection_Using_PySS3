{
 "cells": [
  {
   "cell_type": "markdown",
   "metadata": {},
   "source": [
    "# Text Based Depression Detection Using PySS3\n",
    "<br>"
   ]
  },
  {
   "cell_type": "code",
   "execution_count": 1,
   "metadata": {},
   "outputs": [],
   "source": [
    "from pyss3 import SS3\n",
    "from pyss3.util import Dataset, Evaluation, span\n",
    "from pyss3.server import Live_Test\n",
    "\n",
    "from sklearn.metrics import accuracy_score"
   ]
  },
  {
   "cell_type": "code",
   "execution_count": 2,
   "metadata": {},
   "outputs": [],
   "source": [
    "clf = SS3()"
   ]
  },
  {
   "cell_type": "code",
   "execution_count": 3,
   "metadata": {},
   "outputs": [
    {
     "name": "stdout",
     "output_type": "stream",
     "text": [
      "Smoothness(s): 0.45\n",
      "Significance(l): 0.5\n",
      "Sanction(p): 1\n"
     ]
    }
   ],
   "source": [
    "s, l, p, _ = clf.get_hyperparameters()\n",
    "\n",
    "print(\"Smoothness(s):\", s)\n",
    "print(\"Significance(l):\", l)\n",
    "print(\"Sanction(p):\", p)"
   ]
  },
  {
   "cell_type": "code",
   "execution_count": 4,
   "metadata": {},
   "outputs": [
    {
     "name": "stderr",
     "output_type": "stream",
     "text": [
      "[2/2] Loading 'pos' documents: 100%|████████████████████████████████████████████| 11151/11151 [01:19<00:00, 140.11it/s]\n",
      "[2/2] Loading 'pos' documents: 100%|██████████████████████████████████████████████| 2988/2988 [00:19<00:00, 156.60it/s]\n"
     ]
    }
   ],
   "source": [
    "x_train, y_train = Dataset.load_from_files(\"datasets/corpus/train\")\n",
    "x_test, y_test = Dataset.load_from_files(\"datasets/corpus/test\")"
   ]
  },
  {
   "cell_type": "raw",
   "metadata": {},
   "source": [
    "Training"
   ]
  },
  {
   "cell_type": "code",
   "execution_count": 5,
   "metadata": {},
   "outputs": [
    {
     "name": "stderr",
     "output_type": "stream",
     "text": [
      "Training on 'pos': 100%|█████████████████████████████████████████████████████████████████| 2/2 [00:08<00:00,  4.39s/it]\n"
     ]
    }
   ],
   "source": [
    "clf.train(x_train, y_train)  # clf.fit(x_train, y_train)"
   ]
  },
  {
   "cell_type": "markdown",
   "metadata": {},
   "source": [
    "Testing"
   ]
  },
  {
   "cell_type": "code",
   "execution_count": 6,
   "metadata": {
    "scrolled": true
   },
   "outputs": [
    {
     "name": "stderr",
     "output_type": "stream",
     "text": [
      "Classification: 100%|███████████████████████████████████████████████████████████| 5822/5822 [00:00<00:00, 65776.43it/s]"
     ]
    },
    {
     "name": "stdout",
     "output_type": "stream",
     "text": [
      "Accuracy was: 0.790278254895225\n"
     ]
    },
    {
     "name": "stderr",
     "output_type": "stream",
     "text": [
      "\n"
     ]
    }
   ],
   "source": [
    "y_pred = clf.predict(x_test)\n",
    "\n",
    "accuracy = accuracy_score(y_pred, y_test)\n",
    "\n",
    "print(\"Accuracy was:\", accuracy)"
   ]
  },
  {
   "cell_type": "code",
   "execution_count": 7,
   "metadata": {
    "scrolled": false
   },
   "outputs": [
    {
     "name": "stderr",
     "output_type": "stream",
     "text": [
      "Classification: 100%|███████████████████████████████████████████████████████████| 5822/5822 [00:00<00:00, 68882.05it/s]\n"
     ]
    },
    {
     "name": "stdout",
     "output_type": "stream",
     "text": [
      "\n",
      "              precision    recall  f1-score   support\n",
      "\n",
      "         neg       0.93      0.61      0.74      2834\n",
      "         pos       0.72      0.96      0.82      2988\n",
      "\n",
      "    accuracy                           0.79      5822\n",
      "   macro avg       0.83      0.79      0.78      5822\n",
      "weighted avg       0.83      0.79      0.78      5822\n",
      "\n",
      "\n",
      " \u001b[1mAccuracy\u001b[0m: 0.790\n",
      "\n",
      "\u001b[94m[ updating evaluations cache ]\u001b[0m\n"
     ]
    },
    {
     "data": {
      "image/png": "[encoded data removed]",
      "text/plain": [
       "<Figure size 800x800 with 2 Axes>"
      ]
     },
     "metadata": {},
     "output_type": "display_data"
    },
    {
     "data": {
      "text/plain": [
       "0.790278254895225"
      ]
     },
     "execution_count": 7,
     "metadata": {},
     "output_type": "execute_result"
    }
   ],
   "source": [
    "Evaluation.test(clf, x_test, y_test)"
   ]
  },
  {
   "cell_type": "code",
   "execution_count": 37,
   "metadata": {},
   "outputs": [
    {
     "name": "stdout",
     "output_type": "stream",
     "text": [
      "\n"
     ]
    }
   ],
   "source": [
    "Live_Test.run(clf, x_test, y_test)  "
   ]
  },
  {
   "cell_type": "markdown",
   "metadata": {},
   "source": [
    "Using n-gram"
   ]
  },
  {
   "cell_type": "code",
   "execution_count": 8,
   "metadata": {
    "scrolled": true
   },
   "outputs": [
    {
     "name": "stderr",
     "output_type": "stream",
     "text": [
      "Training on 'pos': 100%|█████████████████████████████████████████████████████████████████| 2/2 [00:18<00:00,  9.37s/it]\n"
     ]
    }
   ],
   "source": [
    "clf = SS3()\n",
    "\n",
    "clf.train(x_train, y_train, n_grams=3) "
   ]
  },
  {
   "cell_type": "markdown",
   "metadata": {},
   "source": [
    "Performance analysis"
   ]
  },
  {
   "cell_type": "code",
   "execution_count": 9,
   "metadata": {},
   "outputs": [
    {
     "name": "stderr",
     "output_type": "stream",
     "text": [
      "Classification: 100%|█████████████████████████████████████████████████████████████| 5822/5822 [00:10<00:00, 572.03it/s]"
     ]
    },
    {
     "name": "stdout",
     "output_type": "stream",
     "text": [
      "Accuracy: 0.8184472689797321\n"
     ]
    },
    {
     "name": "stderr",
     "output_type": "stream",
     "text": [
      "\n"
     ]
    }
   ],
   "source": [
    "y_pred = clf.predict(x_test)\n",
    "\n",
    "print(\"Accuracy:\", accuracy_score(y_pred, y_test))"
   ]
  },
  {
   "cell_type": "code",
   "execution_count": 10,
   "metadata": {},
   "outputs": [
    {
     "name": "stderr",
     "output_type": "stream",
     "text": [
      "Classification: 100%|█████████████████████████████████████████████████████████████| 5822/5822 [00:10<00:00, 537.26it/s]\n"
     ]
    },
    {
     "name": "stdout",
     "output_type": "stream",
     "text": [
      "\n",
      "              precision    recall  f1-score   support\n",
      "\n",
      "         neg       0.92      0.68      0.79      2834\n",
      "         pos       0.76      0.95      0.84      2988\n",
      "\n",
      "    accuracy                           0.82      5822\n",
      "   macro avg       0.84      0.81      0.81      5822\n",
      "weighted avg       0.84      0.82      0.81      5822\n",
      "\n",
      "\n",
      " \u001b[1mAccuracy\u001b[0m: 0.818\n",
      "\n",
      "\u001b[94m[ updating evaluations cache ]\u001b[0m\n"
     ]
    },
    {
     "data": {
      "image/png": "[encoded data removed]",
      "text/plain": [
       "<Figure size 800x800 with 2 Axes>"
      ]
     },
     "metadata": {},
     "output_type": "display_data"
    },
    {
     "data": {
      "text/plain": [
       "0.8184472689797321"
      ]
     },
     "execution_count": 10,
     "metadata": {},
     "output_type": "execute_result"
    }
   ],
   "source": [
    "Evaluation.test(clf, x_test, y_test)"
   ]
  },
  {
   "cell_type": "code",
   "execution_count": null,
   "metadata": {},
   "outputs": [],
   "source": [
    "Live_Test.run(clf, x_test, y_test)  "
   ]
  },
  {
   "cell_type": "code",
   "execution_count": 43,
   "metadata": {},
   "outputs": [],
   "source": [
    "clf.set_hyperparameters(s=0.2, l=0.2727, p=0.5)"
   ]
  },
  {
   "cell_type": "code",
   "execution_count": 44,
   "metadata": {},
   "outputs": [
    {
     "name": "stderr",
     "output_type": "stream",
     "text": [
      "Classification: 100%|█████████████████████████████████████████████████████████| 52038/52038 [00:00<00:00, 55328.52it/s]\n"
     ]
    },
    {
     "name": "stdout",
     "output_type": "stream",
     "text": [
      "Accuracy: 0.8998424228448442\n"
     ]
    }
   ],
   "source": [
    "y_pred = clf.predict(x_test)\n",
    "\n",
    "print(\"Accuracy:\", accuracy_score(y_pred, y_test))"
   ]
  },
  {
   "cell_type": "code",
   "execution_count": 45,
   "metadata": {},
   "outputs": [
    {
     "name": "stderr",
     "output_type": "stream",
     "text": [
      "Classification: 100%|█████████████████████████████████████████████████████████| 52038/52038 [00:01<00:00, 49787.92it/s]\n"
     ]
    },
    {
     "name": "stdout",
     "output_type": "stream",
     "text": [
      "\n",
      "              precision    recall  f1-score   support\n",
      "\n",
      "         neg       0.91      0.89      0.90     26028\n",
      "         pos       0.89      0.91      0.90     26010\n",
      "\n",
      "    accuracy                           0.90     52038\n",
      "   macro avg       0.90      0.90      0.90     52038\n",
      "weighted avg       0.90      0.90      0.90     52038\n",
      "\n",
      "\n",
      " \u001b[1mAccuracy\u001b[0m: 0.900\n",
      "\n",
      "\u001b[94m[ updating evaluations cache ]\u001b[0m\n"
     ]
    },
    {
     "data": {
      "image/png": "[encoded data removed]",
      "text/plain": [
       "<Figure size 800x800 with 2 Axes>"
      ]
     },
     "metadata": {},
     "output_type": "display_data"
    },
    {
     "data": {
      "text/plain": [
       "0.8998424228448442"
      ]
     },
     "execution_count": 45,
     "metadata": {},
     "output_type": "execute_result"
    }
   ],
   "source": [
    "Evaluation.test(clf, x_test, y_test)"
   ]
  },
  {
   "cell_type": "code",
   "execution_count": null,
   "metadata": {},
   "outputs": [
    {
     "name": "stdout",
     "output_type": "stream",
     "text": [
      "\n"
     ]
    }
   ],
   "source": [
    "Live_Test.run(clf, x_test, y_test)"
   ]
  },
  {
   "cell_type": "markdown",
   "metadata": {},
   "source": [
    "---\n",
    "## Hyperparameter Optimization\n"
   ]
  },
  {
   "cell_type": "code",
   "execution_count": 22,
   "metadata": {
    "scrolled": true
   },
   "outputs": [
    {
     "name": "stderr",
     "output_type": "stream",
     "text": [
      "Training on 'pos': 100%|█████████████████████████████████████████████████████████████████| 2/2 [00:08<00:00,  4.17s/it]\n"
     ]
    }
   ],
   "source": [
    "clf = SS3(name=\"depression_detection_corpus\")\n",
    "\n",
    "clf.train(x_train, y_train)"
   ]
  },
  {
   "cell_type": "code",
   "execution_count": 23,
   "metadata": {
    "scrolled": true
   },
   "outputs": [
    {
     "data": {
      "text/plain": [
       "array([0. , 0.2, 0.4, 0.6, 0.8, 1. ])"
      ]
     },
     "execution_count": 23,
     "metadata": {},
     "output_type": "execute_result"
    }
   ],
   "source": [
    "span(0, 1, 6)"
   ]
  },
  {
   "cell_type": "markdown",
   "metadata": {},
   "source": [
    "Thus, we will use the following values for each of the three hyperparameters:"
   ]
  },
  {
   "cell_type": "code",
   "execution_count": 24,
   "metadata": {},
   "outputs": [],
   "source": [
    "s_vals=span(0.2, 0.8, 6)  \n",
    "l_vals=span(0.1, 2, 6)   \n",
    "p_vals=span(0.5, 2, 6)"
   ]
  },
  {
   "cell_type": "code",
   "execution_count": 25,
   "metadata": {
    "scrolled": true
   },
   "outputs": [
    {
     "name": "stderr",
     "output_type": "stream",
     "text": [
      "Grid search: 100%|███████████████████████████████████████████████████████████████████| 216/216 [03:17<00:00,  1.10it/s]\n"
     ]
    }
   ],
   "source": [
    "best_s, best_l, best_p, _ = Evaluation.grid_search(\n",
    "    clf, x_test, y_test,\n",
    "    s=s_vals, l=l_vals, p=p_vals,\n",
    "    tag=\"grid search (test)\"  \n",
    ")"
   ]
  },
  {
   "cell_type": "code",
   "execution_count": 26,
   "metadata": {
    "scrolled": true
   },
   "outputs": [
    {
     "name": "stdout",
     "output_type": "stream",
     "text": [
      "The hyperparameter values that obtained the best Accuracy are:\n",
      "Smoothness(s): 0.44\n",
      "Significance(l): 2.0\n",
      "Sanction(p): 0.5\n"
     ]
    }
   ],
   "source": [
    "print(\"The hyperparameter values that obtained the best Accuracy are:\")\n",
    "print(\"Smoothness(s):\", best_s)\n",
    "print(\"Significance(l):\", best_l)\n",
    "print(\"Sanction(p):\", best_p)"
   ]
  },
  {
   "cell_type": "code",
   "execution_count": 32,
   "metadata": {},
   "outputs": [
    {
     "name": "stderr",
     "output_type": "stream",
     "text": [
      "Training on 'pos': 100%|█████████████████████████████████████████████████████████████████| 2/2 [00:00<00:00,  4.27it/s]\n",
      "[fold 10/10] Grid search: 100%|█████████████████████████████████████████████████████| 36/36 [00:00<00:00, 35994.03it/s]\n",
      "Classification: 100%|███████████████████████████████████████████████████████████| 1000/1000 [00:00<00:00, 32257.18it/s]\n"
     ]
    },
    {
     "name": "stdout",
     "output_type": "stream",
     "text": [
      "              precision    recall  f1-score   support\n",
      "\n",
      "           0       0.94      0.95      0.94       497\n",
      "           1       0.95      0.94      0.95       503\n",
      "\n",
      "    accuracy                           0.94      1000\n",
      "   macro avg       0.95      0.95      0.94      1000\n",
      "weighted avg       0.95      0.94      0.95      1000\n",
      "\n"
     ]
    }
   ],
   "source": [
    "import numpy as np\n",
    "from pyss3 import SS3\n",
    "from pyss3.util import Evaluation\n",
    "from sklearn.metrics import classification_report\n",
    "\n",
    "x_train = np.array(x_train, dtype=np.object_)\n",
    "y_train = np.array(y_train, dtype=np.object_)\n",
    "\n",
    "subset_size = 1000\n",
    "indices = np.random.choice(len(x_train), size=subset_size, replace=False)\n",
    "x_subset = x_train[indices]\n",
    "y_subset = y_train[indices]\n",
    "\n",
    "clf = SS3()\n",
    "\n",
    "clf.fit(x_subset, y_subset)\n",
    "\n",
    "best_s, best_l, best_p, _ = Evaluation.grid_search(\n",
    "    clf, x_subset, y_subset,\n",
    "    k_fold=10,\n",
    "    s=s_vals, l=l_vals, p=0.5,\n",
    "    tag=\"grid search (10-fold)\"\n",
    ")\n",
    "\n",
    "\n",
    "categories = clf.get_categories()\n",
    "\n",
    "target_names = [str(i) for i in range(len(categories))]\n",
    "\n",
    "if target_names:\n",
    "    classification_rep = classification_report(y_subset, clf.predict(x_subset), target_names=target_names)\n",
    "    print(classification_rep)\n",
    "else:\n",
    "    print(\"No target names available.\")\n"
   ]
  },
  {
   "cell_type": "code",
   "execution_count": 33,
   "metadata": {
    "scrolled": true
   },
   "outputs": [
    {
     "name": "stdout",
     "output_type": "stream",
     "text": [
      "The hyperparameter values that obtained the best accuracy are:\n",
      "Smoothness(s): 0.32\n",
      "Significance(l): 0.48\n",
      "Sanction(p): 0.5\n"
     ]
    }
   ],
   "source": [
    "print(\"The hyperparameter values that obtained the best accuracy are:\")\n",
    "print(\"Smoothness(s):\", best_s)\n",
    "print(\"Significance(l):\", best_l)\n",
    "print(\"Sanction(p):\", best_p)"
   ]
  },
  {
   "cell_type": "markdown",
   "metadata": {},
   "source": [
    "The same hyperparameter values performed the best on the training data using 10-fold cross-validation. This means we can use the selected hyperparameter values (``s=0.32, l=0.48, p=0.5``) safely.\n"
   ]
  },
  {
   "cell_type": "code",
   "execution_count": null,
   "metadata": {
    "scrolled": true
   },
   "outputs": [],
   "source": [
    "s, l, p, _ = Evaluation.get_best_hyperparameters(metric=\"precision\", metric_target=\"neg\")\n",
    "\n",
    "print(\"s=%.2f, l=%.2f, and p=%.2f\" % (s, l, p))"
   ]
  },
  {
   "cell_type": "markdown",
   "metadata": {},
   "source": [
    "Or the macro averaged f1 score?"
   ]
  },
  {
   "cell_type": "code",
   "execution_count": null,
   "metadata": {},
   "outputs": [],
   "source": [
    "s, l, p, _ = Evaluation.get_best_hyperparameters(metric=\"f1-score\", metric_target=\"macro avg\")\n",
    "\n",
    "print(\"s=%.2f, l=%.2f, and p=%.2f\" % (s, l, p))"
   ]
  },
  {
   "cell_type": "markdown",
   "metadata": {},
   "source": [
    "### Interactive 3D Evaluation Plot\n",
    "\n"
   ]
  },
  {
   "cell_type": "code",
   "execution_count": 30,
   "metadata": {},
   "outputs": [
    {
     "name": "stderr",
     "output_type": "stream",
     "text": [
      "C:\\Users\\Manish\\AppData\\Local\\Programs\\Python\\Python310\\lib\\subprocess.py:1067: ResourceWarning: subprocess 24864 is still running\n",
      "  _warn(\"subprocess %s is still running\" % self.pid,\n",
      "ResourceWarning: Enable tracemalloc to get the object allocation traceback\n"
     ]
    },
    {
     "data": {
      "text/plain": [
       "True"
      ]
     },
     "execution_count": 30,
     "metadata": {},
     "output_type": "execute_result"
    }
   ],
   "source": [
    "Evaluation.plot()"
   ]
  },
  {
   "cell_type": "code",
   "execution_count": null,
   "metadata": {},
   "outputs": [],
   "source": []
  }
 ],
 "metadata": {
  "kernelspec": {
   "display_name": "Python 3 (ipykernel)",
   "language": "python",
   "name": "python3"
  },
  "language_info": {
   "codemirror_mode": {
    "name": "ipython",
    "version": 3
   },
   "file_extension": ".py",
   "mimetype": "text/x-python",
   "name": "python",
   "nbconvert_exporter": "python",
   "pygments_lexer": "ipython3",
   "version": "3.10.0"
  }
 },
 "nbformat": 4,
 "nbformat_minor": 2
}
